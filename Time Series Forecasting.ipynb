{
 "cells": [
  {
   "cell_type": "markdown",
   "metadata": {},
   "source": [
    "# Time Series Analysis of Motor Collisions in Seattle\n",
    "\n",
    "If you're here you're probably looking for my time series analysis. Sorry! This will be uploaded over the weekend, by Sunday 8/25.\n",
    "\n",
    "## The Data\n",
    "\n",
    "Available for download [here](https://data.seattle.gov/widgets/vac5-r8kk).\n",
    "\n",
    "200K motor vehicle collisions provided by the city of Seattle, which occurred between 2004 and 2018. Each has date, some have associated time. Each one also has a `SEVERITYCODE`, which is described as follows:\n",
    "\n",
    "  - **0**: Unknown\n",
    "  - **1**: Property Damage Only\n",
    "  - **2**: Injury Collision\n",
    "  - **2b**: Serious Injury Collision\n",
    "  - **3**: Fatal Collision\n",
    "  \n",
    "For my purposes, I will be joining severity `2` and `2b`, \n",
    "I am primarily interested in predicting the number of collisions that will happen on given days. I also will be interested in predicting the number of severity 1, 2, and 3 collisions."
   ]
  },
  {
   "cell_type": "code",
   "execution_count": 1,
   "metadata": {},
   "outputs": [
    {
     "name": "stdout",
     "output_type": "stream",
     "text": [
      "matplotlib: 3.0.3\n",
      "pandas: 0.24.2\n",
      "numpy: 1.16.2\n",
      "seaborn: 0.9.0\n"
     ]
    }
   ],
   "source": [
    "import pandas as pd\n",
    "import numpy as np\n",
    "\n",
    "import matplotlib\n",
    "import matplotlib.pyplot as plt\n",
    "import seaborn as sns\n",
    "sns.set()\n",
    "\n",
    "pkgs = [matplotlib, pd, np, sns]\n",
    "for pkg in pkgs:\n",
    "    print(f'{pkg.__name__}: {pkg.__version__}')"
   ]
  },
  {
   "cell_type": "code",
   "execution_count": 2,
   "metadata": {
    "scrolled": true
   },
   "outputs": [
    {
     "data": {
      "text/html": [
       "<div>\n",
       "<style scoped>\n",
       "    .dataframe tbody tr th:only-of-type {\n",
       "        vertical-align: middle;\n",
       "    }\n",
       "\n",
       "    .dataframe tbody tr th {\n",
       "        vertical-align: top;\n",
       "    }\n",
       "\n",
       "    .dataframe thead th {\n",
       "        text-align: right;\n",
       "    }\n",
       "</style>\n",
       "<table border=\"1\" class=\"dataframe\">\n",
       "  <thead>\n",
       "    <tr style=\"text-align: right;\">\n",
       "      <th></th>\n",
       "      <th>INCDTTM</th>\n",
       "      <th>SEVERITYCODE</th>\n",
       "    </tr>\n",
       "  </thead>\n",
       "  <tbody>\n",
       "    <tr>\n",
       "      <th>0</th>\n",
       "      <td>2013-04-07 09:12:00</td>\n",
       "      <td>2</td>\n",
       "    </tr>\n",
       "    <tr>\n",
       "      <th>1</th>\n",
       "      <td>2018-12-16 00:11:00</td>\n",
       "      <td>2</td>\n",
       "    </tr>\n",
       "    <tr>\n",
       "      <th>2</th>\n",
       "      <td>2018-11-27 00:00:00</td>\n",
       "      <td>0</td>\n",
       "    </tr>\n",
       "    <tr>\n",
       "      <th>3</th>\n",
       "      <td>2018-12-05 18:25:00</td>\n",
       "      <td>1</td>\n",
       "    </tr>\n",
       "    <tr>\n",
       "      <th>4</th>\n",
       "      <td>2018-12-10 12:46:00</td>\n",
       "      <td>2</td>\n",
       "    </tr>\n",
       "  </tbody>\n",
       "</table>\n",
       "</div>"
      ],
      "text/plain": [
       "              INCDTTM SEVERITYCODE\n",
       "0 2013-04-07 09:12:00            2\n",
       "1 2018-12-16 00:11:00            2\n",
       "2 2018-11-27 00:00:00            0\n",
       "3 2018-12-05 18:25:00            1\n",
       "4 2018-12-10 12:46:00            2"
      ]
     },
     "execution_count": 2,
     "metadata": {},
     "output_type": "execute_result"
    }
   ],
   "source": [
    "data = pd.read_csv('data/seattle_collisions.csv')\n",
    "data = data[['INCDTTM', 'SEVERITYCODE']]\n",
    "data.INCDTTM = pd.to_datetime(data.INCDTTM)\n",
    "data.head()"
   ]
  },
  {
   "cell_type": "code",
   "execution_count": 3,
   "metadata": {},
   "outputs": [
    {
     "data": {
      "text/plain": [
       "INCDTTM         datetime64[ns]\n",
       "SEVERITYCODE            object\n",
       "dtype: object"
      ]
     },
     "execution_count": 3,
     "metadata": {},
     "output_type": "execute_result"
    }
   ],
   "source": [
    "data.dtypes"
   ]
  },
  {
   "cell_type": "markdown",
   "metadata": {},
   "source": [
    "# Data Wrangling\n",
    "\n",
    "## Severity Codes\n",
    "\n",
    "From my previous work, I know I have to work with the severity codes a bit -- there is one missing (it doesn't matter, I'll just set it to `0`) and there's level '2' (injury collision) and '2b' (serious injury collision) which I'll just merge."
   ]
  },
  {
   "cell_type": "code",
   "execution_count": 5,
   "metadata": {},
   "outputs": [
    {
     "data": {
      "text/plain": [
       "1     130533\n",
       "2      55427\n",
       "0      20394\n",
       "2b      2918\n",
       "3        319\n",
       "Name: SEVERITYCODE, dtype: int64"
      ]
     },
     "execution_count": 5,
     "metadata": {},
     "output_type": "execute_result"
    }
   ],
   "source": [
    "data.SEVERITYCODE.value_counts()"
   ]
  },
  {
   "cell_type": "code",
   "execution_count": 6,
   "metadata": {},
   "outputs": [
    {
     "data": {
      "text/plain": [
       "1"
      ]
     },
     "execution_count": 6,
     "metadata": {},
     "output_type": "execute_result"
    }
   ],
   "source": [
    "data.SEVERITYCODE.isna().sum()"
   ]
  },
  {
   "cell_type": "code",
   "execution_count": 7,
   "metadata": {},
   "outputs": [
    {
     "data": {
      "text/plain": [
       "array(['2', '0', '1', '2b', '3', nan], dtype=object)"
      ]
     },
     "execution_count": 7,
     "metadata": {},
     "output_type": "execute_result"
    }
   ],
   "source": [
    "data.SEVERITYCODE.unique()"
   ]
  },
  {
   "cell_type": "code",
   "execution_count": 8,
   "metadata": {},
   "outputs": [],
   "source": [
    "severity_dict = {'0':0, '1':1, '2':2, '2b':2, '3':3, np.nan:0}\n",
    "\n",
    "data.SEVERITYCODE = data.SEVERITYCODE.map(severity_dict)"
   ]
  },
  {
   "cell_type": "markdown",
   "metadata": {},
   "source": [
    "## Dates vs Times\n",
    "\n",
    "Currently I have the column `INCDTTM` but I should add a `DATE` column to help with time series analysis, since this will allow us to group by date. It could also be handy to keep the time of these incidents around.\n",
    "\n",
    "This might be tricky because one part of time series analysis is that we want observations to be taken at regular intervals, which the times are not. Using dates is my way of sticking to this assumption -- counting the number of collisions that occured on a given day is equivalent to counting the new collisions every day at midnight."
   ]
  },
  {
   "cell_type": "code",
   "execution_count": 53,
   "metadata": {},
   "outputs": [
    {
     "ename": "AttributeError",
     "evalue": "'Series' object has no attribute 'to_datetime'",
     "output_type": "error",
     "traceback": [
      "\u001b[0;31m---------------------------------------------------------------------------\u001b[0m",
      "\u001b[0;31mAttributeError\u001b[0m                            Traceback (most recent call last)",
      "\u001b[0;32m<ipython-input-53-7d24c8620c38>\u001b[0m in \u001b[0;36m<module>\u001b[0;34m\u001b[0m\n\u001b[0;32m----> 1\u001b[0;31m \u001b[0mdata\u001b[0m\u001b[0;34m[\u001b[0m\u001b[0;34m'DAY'\u001b[0m\u001b[0;34m]\u001b[0m \u001b[0;34m=\u001b[0m \u001b[0mdata\u001b[0m\u001b[0;34m.\u001b[0m\u001b[0mINCDTTM\u001b[0m\u001b[0;34m.\u001b[0m\u001b[0mdt\u001b[0m\u001b[0;34m.\u001b[0m\u001b[0mdate\u001b[0m\u001b[0;34m.\u001b[0m\u001b[0mto_datetime\u001b[0m\u001b[0;34m(\u001b[0m\u001b[0;34m)\u001b[0m\u001b[0;34m\u001b[0m\u001b[0;34m\u001b[0m\u001b[0m\n\u001b[0m",
      "\u001b[0;32m~/.anaconda3/envs/insight2/lib/python3.7/site-packages/pandas/core/generic.py\u001b[0m in \u001b[0;36m__getattr__\u001b[0;34m(self, name)\u001b[0m\n\u001b[1;32m   5065\u001b[0m             \u001b[0;32mif\u001b[0m \u001b[0mself\u001b[0m\u001b[0;34m.\u001b[0m\u001b[0m_info_axis\u001b[0m\u001b[0;34m.\u001b[0m\u001b[0m_can_hold_identifiers_and_holds_name\u001b[0m\u001b[0;34m(\u001b[0m\u001b[0mname\u001b[0m\u001b[0;34m)\u001b[0m\u001b[0;34m:\u001b[0m\u001b[0;34m\u001b[0m\u001b[0;34m\u001b[0m\u001b[0m\n\u001b[1;32m   5066\u001b[0m                 \u001b[0;32mreturn\u001b[0m \u001b[0mself\u001b[0m\u001b[0;34m[\u001b[0m\u001b[0mname\u001b[0m\u001b[0;34m]\u001b[0m\u001b[0;34m\u001b[0m\u001b[0;34m\u001b[0m\u001b[0m\n\u001b[0;32m-> 5067\u001b[0;31m             \u001b[0;32mreturn\u001b[0m \u001b[0mobject\u001b[0m\u001b[0;34m.\u001b[0m\u001b[0m__getattribute__\u001b[0m\u001b[0;34m(\u001b[0m\u001b[0mself\u001b[0m\u001b[0;34m,\u001b[0m \u001b[0mname\u001b[0m\u001b[0;34m)\u001b[0m\u001b[0;34m\u001b[0m\u001b[0;34m\u001b[0m\u001b[0m\n\u001b[0m\u001b[1;32m   5068\u001b[0m \u001b[0;34m\u001b[0m\u001b[0m\n\u001b[1;32m   5069\u001b[0m     \u001b[0;32mdef\u001b[0m \u001b[0m__setattr__\u001b[0m\u001b[0;34m(\u001b[0m\u001b[0mself\u001b[0m\u001b[0;34m,\u001b[0m \u001b[0mname\u001b[0m\u001b[0;34m,\u001b[0m \u001b[0mvalue\u001b[0m\u001b[0;34m)\u001b[0m\u001b[0;34m:\u001b[0m\u001b[0;34m\u001b[0m\u001b[0;34m\u001b[0m\u001b[0m\n",
      "\u001b[0;31mAttributeError\u001b[0m: 'Series' object has no attribute 'to_datetime'"
     ]
    }
   ],
   "source": [
    "data['DAY'] = data.INCDTTM.dt.date"
   ]
  },
  {
   "cell_type": "code",
   "execution_count": 57,
   "metadata": {},
   "outputs": [],
   "source": [
    "data.DAY = data.DAY.map(pd.to_datetime)"
   ]
  },
  {
   "cell_type": "code",
   "execution_count": 58,
   "metadata": {},
   "outputs": [
    {
     "data": {
      "text/plain": [
       "INCDTTM         datetime64[ns]\n",
       "SEVERITYCODE             int64\n",
       "DAY             datetime64[ns]\n",
       "dtype: object"
      ]
     },
     "execution_count": 58,
     "metadata": {},
     "output_type": "execute_result"
    }
   ],
   "source": [
    "data.dtypes"
   ]
  },
  {
   "cell_type": "markdown",
   "metadata": {},
   "source": [
    "## Does any date not appear?\n",
    "\n",
    "My inspection here shows that there was a single collision recorded on October 6, 2003, then nothing for the rest of the year, then starting on Jan 1, 2004 there are entries every day. As such, I will forget the 2003 entry and start my analysis in 2004."
   ]
  },
  {
   "cell_type": "code",
   "execution_count": 92,
   "metadata": {},
   "outputs": [
    {
     "name": "stdout",
     "output_type": "stream",
     "text": [
      "Starts: October 06, 2003\n",
      "Ends:   May 27, 2019\n"
     ]
    }
   ],
   "source": [
    "all_dates = data['DAY'].unique()\n",
    "\n",
    "earliest_date = min(all_dates)\n",
    "latest_date = max(all_dates)\n",
    "\n",
    "print(f\"Starts: {pd.Timestamp(earliest_date).strftime('%B %d, %Y')}\")\n",
    "print(f\"Ends:   {pd.Timestamp(latest_date).strftime('%B %d, %Y')}\")"
   ]
  },
  {
   "cell_type": "code",
   "execution_count": 78,
   "metadata": {},
   "outputs": [],
   "source": [
    "missing_dates = []\n",
    "for date in pd.date_range(earliest_date,latest_date):\n",
    "    if np.datetime64(date) not in all_dates:\n",
    "        missing_dates.append(date)"
   ]
  },
  {
   "cell_type": "code",
   "execution_count": 79,
   "metadata": {},
   "outputs": [
    {
     "name": "stdout",
     "output_type": "stream",
     "text": [
      "There are 86 missing dates.\n",
      "This is 1.51% of all dates\n"
     ]
    }
   ],
   "source": [
    "print(f'There are {len(missing_dates)} missing dates.')\n",
    "print(f'This is {round(len(missing_dates) / len(pd.date_range(earliest_date, latest_date)) * 100,2)}% of all dates')"
   ]
  },
  {
   "cell_type": "code",
   "execution_count": 94,
   "metadata": {
    "scrolled": true
   },
   "outputs": [
    {
     "name": "stdout",
     "output_type": "stream",
     "text": [
      "['October 07, 2003', 'October 08, 2003', 'October 09, 2003', 'October 10, 2003', 'October 11, 2003', 'October 12, 2003', 'October 13, 2003', 'October 14, 2003', 'October 15, 2003', 'October 16, 2003', 'October 17, 2003', 'October 18, 2003', 'October 19, 2003', 'October 20, 2003', 'October 21, 2003', 'October 22, 2003', 'October 23, 2003', 'October 24, 2003', 'October 25, 2003', 'October 26, 2003', 'October 27, 2003', 'October 28, 2003', 'October 29, 2003', 'October 30, 2003', 'October 31, 2003', 'November 01, 2003', 'November 02, 2003', 'November 03, 2003', 'November 04, 2003', 'November 05, 2003', 'November 06, 2003', 'November 07, 2003', 'November 08, 2003', 'November 09, 2003', 'November 10, 2003', 'November 11, 2003', 'November 12, 2003', 'November 13, 2003', 'November 14, 2003', 'November 15, 2003', 'November 16, 2003', 'November 17, 2003', 'November 18, 2003', 'November 19, 2003', 'November 20, 2003', 'November 21, 2003', 'November 22, 2003', 'November 23, 2003', 'November 24, 2003', 'November 25, 2003', 'November 26, 2003', 'November 27, 2003', 'November 28, 2003', 'November 29, 2003', 'November 30, 2003', 'December 01, 2003', 'December 02, 2003', 'December 03, 2003', 'December 04, 2003', 'December 05, 2003', 'December 06, 2003', 'December 07, 2003', 'December 08, 2003', 'December 09, 2003', 'December 10, 2003', 'December 11, 2003', 'December 12, 2003', 'December 13, 2003', 'December 14, 2003', 'December 15, 2003', 'December 16, 2003', 'December 17, 2003', 'December 18, 2003', 'December 19, 2003', 'December 20, 2003', 'December 21, 2003', 'December 22, 2003', 'December 23, 2003', 'December 24, 2003', 'December 25, 2003', 'December 26, 2003', 'December 27, 2003', 'December 28, 2003', 'December 29, 2003', 'December 30, 2003', 'December 31, 2003']\n"
     ]
    }
   ],
   "source": [
    "print([my_date.strftime('%B %d, %Y') for my_date in missing_dates])"
   ]
  },
  {
   "cell_type": "code",
   "execution_count": 98,
   "metadata": {},
   "outputs": [
    {
     "data": {
      "text/plain": [
       "1"
      ]
     },
     "execution_count": 98,
     "metadata": {},
     "output_type": "execute_result"
    }
   ],
   "source": [
    "(data.DAY <= np.datetime64('2003-12-31')).sum()"
   ]
  },
  {
   "cell_type": "code",
   "execution_count": 99,
   "metadata": {},
   "outputs": [],
   "source": [
    "data = data[data.DAY > np.datetime64('2003-12-31')]"
   ]
  },
  {
   "cell_type": "markdown",
   "metadata": {},
   "source": [
    "# Visualizations\n",
    "\n",
    "My first visualization here is pretty ugly. I'll try to visualize better soon."
   ]
  },
  {
   "cell_type": "code",
   "execution_count": 12,
   "metadata": {
    "scrolled": true
   },
   "outputs": [
    {
     "data": {
      "text/plain": [
       "<matplotlib.axes._subplots.AxesSubplot at 0x7f62a4a73898>"
      ]
     },
     "execution_count": 12,
     "metadata": {},
     "output_type": "execute_result"
    },
    {
     "data": {
      "image/png": "[encoded data removed]",
      "text/plain": [
       "<Figure size 432x288 with 1 Axes>"
      ]
     },
     "metadata": {
      "needs_background": "light"
     },
     "output_type": "display_data"
    }
   ],
   "source": [
    "data_ts = data.groupby(['DAY', 'SEVERITYCODE']).size().unstack().fillna(0)\n",
    "data_ts.plot()"
   ]
  },
  {
   "cell_type": "markdown",
   "metadata": {},
   "source": [
    "## Total number of collisions\n",
    "\n",
    "Let's put the `SEVERITYCODE`s on hold for a second, and just focus on the number of collisions per day.\n",
    "\n",
    "In this way it becomes clear that the number of auto collisions in Seattle seems to be dropping."
   ]
  },
  {
   "cell_type": "code",
   "execution_count": 15,
   "metadata": {},
   "outputs": [],
   "source": [
    "data_ts['ALL'] = data_ts.sum(axis=1)"
   ]
  },
  {
   "cell_type": "code",
   "execution_count": 18,
   "metadata": {},
   "outputs": [
    {
     "data": {
      "text/plain": [
       "<matplotlib.axes._subplots.AxesSubplot at 0x7f62a4691898>"
      ]
     },
     "execution_count": 18,
     "metadata": {},
     "output_type": "execute_result"
    },
    {
     "data": {
      "image/png": "[encoded data removed]",
      "text/plain": [
       "<Figure size 1080x432 with 1 Axes>"
      ]
     },
     "metadata": {
      "needs_background": "light"
     },
     "output_type": "display_data"
    }
   ],
   "source": [
    "data_ts.ALL.plot(figsize=(15,6))"
   ]
  },
  {
   "cell_type": "code",
   "execution_count": null,
   "metadata": {},
   "outputs": [],
   "source": []
  }
 ],
 "metadata": {
  "kernelspec": {
   "display_name": "Python [conda env:insight2] *",
   "language": "python",
   "name": "conda-env-insight2-py"
  },
  "language_info": {
   "codemirror_mode": {
    "name": "ipython",
    "version": 3
   },
   "file_extension": ".py",
   "mimetype": "text/x-python",
   "name": "python",
   "nbconvert_exporter": "python",
   "pygments_lexer": "ipython3",
   "version": "3.7.3"
  }
 },
 "nbformat": 4,
 "nbformat_minor": 2
}
