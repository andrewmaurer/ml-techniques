{
 "cells": [
  {
   "cell_type": "markdown",
   "metadata": {},
   "source": [
    "# Jeopardy NLP\n",
    "\n",
    "Essentially in this notebook I wish to accomplish the following:\n",
    "\n",
    "  1. topic modeling of the jeopardy questions\n",
    "  1. search the questions database intelligently\n",
    "  1. estimate the dollar-value of a user-generated question\n",
    "\n",
    "# Load Modules & Data"
   ]
  },
  {
   "cell_type": "code",
   "execution_count": 19,
   "metadata": {},
   "outputs": [
    {
     "name": "stdout",
     "output_type": "stream",
     "text": [
      "gensim: 3.4.0\n",
      "numpy: 1.16.4\n",
      "pandas: 0.24.2\n",
      "scipy: 1.3.0\n",
      "sklearn: 0.21.2\n",
      "spacy: 2.1.8\n"
     ]
    }
   ],
   "source": [
    "import re\n",
    "\n",
    "import pandas as pd\n",
    "import numpy as np\n",
    "\n",
    "import spacy\n",
    "from spacy.lemmatizer import Lemmatizer\n",
    "\n",
    "import gensim \n",
    "from gensim.models import Word2Vec \n",
    "\n",
    "import sklearn\n",
    "from sklearn import decomposition\n",
    "from sklearn.feature_extraction.text import CountVectorizer, TfidfVectorizer\n",
    "\n",
    "import scipy\n",
    "from scipy.linalg import svd\n",
    "\n",
    "import fbpca\n",
    "\n",
    "import matplotlib.pyplot as plt\n",
    "\n",
    "modules = [gensim, np, pd, scipy, sklearn, spacy]\n",
    "\n",
    "for module in modules:\n",
    "    print(f'{module.__name__}: {module.__version__}')"
   ]
  },
  {
   "cell_type": "code",
   "execution_count": 2,
   "metadata": {},
   "outputs": [
    {
     "data": {
      "text/html": [
       "<div>\n",
       "<style scoped>\n",
       "    .dataframe tbody tr th:only-of-type {\n",
       "        vertical-align: middle;\n",
       "    }\n",
       "\n",
       "    .dataframe tbody tr th {\n",
       "        vertical-align: top;\n",
       "    }\n",
       "\n",
       "    .dataframe thead th {\n",
       "        text-align: right;\n",
       "    }\n",
       "</style>\n",
       "<table border=\"1\" class=\"dataframe\">\n",
       "  <thead>\n",
       "    <tr style=\"text-align: right;\">\n",
       "      <th></th>\n",
       "      <th>air_date</th>\n",
       "      <th>answer</th>\n",
       "      <th>category</th>\n",
       "      <th>question</th>\n",
       "      <th>round</th>\n",
       "      <th>show_number</th>\n",
       "      <th>value</th>\n",
       "    </tr>\n",
       "  </thead>\n",
       "  <tbody>\n",
       "    <tr>\n",
       "      <th>0</th>\n",
       "      <td>2004-12-31</td>\n",
       "      <td>Copernicus</td>\n",
       "      <td>HISTORY</td>\n",
       "      <td>'For the last 8 years of his life, Galileo was...</td>\n",
       "      <td>Jeopardy!</td>\n",
       "      <td>4680</td>\n",
       "      <td>$200</td>\n",
       "    </tr>\n",
       "    <tr>\n",
       "      <th>1</th>\n",
       "      <td>2004-12-31</td>\n",
       "      <td>Jim Thorpe</td>\n",
       "      <td>ESPN's TOP 10 ALL-TIME ATHLETES</td>\n",
       "      <td>'No. 2: 1912 Olympian; football star at Carlis...</td>\n",
       "      <td>Jeopardy!</td>\n",
       "      <td>4680</td>\n",
       "      <td>$200</td>\n",
       "    </tr>\n",
       "    <tr>\n",
       "      <th>2</th>\n",
       "      <td>2004-12-31</td>\n",
       "      <td>Arizona</td>\n",
       "      <td>EVERYBODY TALKS ABOUT IT...</td>\n",
       "      <td>'The city of Yuma in this state has a record a...</td>\n",
       "      <td>Jeopardy!</td>\n",
       "      <td>4680</td>\n",
       "      <td>$200</td>\n",
       "    </tr>\n",
       "    <tr>\n",
       "      <th>3</th>\n",
       "      <td>2004-12-31</td>\n",
       "      <td>McDonald\\'s</td>\n",
       "      <td>THE COMPANY LINE</td>\n",
       "      <td>'In 1963, live on \"The Art Linkletter Show\", t...</td>\n",
       "      <td>Jeopardy!</td>\n",
       "      <td>4680</td>\n",
       "      <td>$200</td>\n",
       "    </tr>\n",
       "    <tr>\n",
       "      <th>4</th>\n",
       "      <td>2004-12-31</td>\n",
       "      <td>John Adams</td>\n",
       "      <td>EPITAPHS &amp; TRIBUTES</td>\n",
       "      <td>'Signer of the Dec. of Indep., framer of the C...</td>\n",
       "      <td>Jeopardy!</td>\n",
       "      <td>4680</td>\n",
       "      <td>$200</td>\n",
       "    </tr>\n",
       "  </tbody>\n",
       "</table>\n",
       "</div>"
      ],
      "text/plain": [
       "     air_date       answer                         category  \\\n",
       "0  2004-12-31   Copernicus                          HISTORY   \n",
       "1  2004-12-31   Jim Thorpe  ESPN's TOP 10 ALL-TIME ATHLETES   \n",
       "2  2004-12-31      Arizona      EVERYBODY TALKS ABOUT IT...   \n",
       "3  2004-12-31  McDonald\\'s                 THE COMPANY LINE   \n",
       "4  2004-12-31   John Adams              EPITAPHS & TRIBUTES   \n",
       "\n",
       "                                            question      round  show_number  \\\n",
       "0  'For the last 8 years of his life, Galileo was...  Jeopardy!         4680   \n",
       "1  'No. 2: 1912 Olympian; football star at Carlis...  Jeopardy!         4680   \n",
       "2  'The city of Yuma in this state has a record a...  Jeopardy!         4680   \n",
       "3  'In 1963, live on \"The Art Linkletter Show\", t...  Jeopardy!         4680   \n",
       "4  'Signer of the Dec. of Indep., framer of the C...  Jeopardy!         4680   \n",
       "\n",
       "  value  \n",
       "0  $200  \n",
       "1  $200  \n",
       "2  $200  \n",
       "3  $200  \n",
       "4  $200  "
      ]
     },
     "execution_count": 2,
     "metadata": {},
     "output_type": "execute_result"
    }
   ],
   "source": [
    "data = pd.read_json('data/JEOPARDY_QUESTIONS1.json')\n",
    "data.head()"
   ]
  },
  {
   "cell_type": "markdown",
   "metadata": {},
   "source": [
    "# Clean the Data\n",
    "\n",
    "## For the Questions\n",
    "\n",
    "1. Remove HTML tags that appear sometimes. These are usually just links to pictures it looks like.\n",
    "2. The questions are all in quotes, which is kind of annoying"
   ]
  },
  {
   "cell_type": "code",
   "execution_count": 3,
   "metadata": {},
   "outputs": [],
   "source": [
    "strip_html = re.compile(r'<.*?>')\n",
    "\n",
    "data.question = data.question.map(lambda x : strip_html.sub('',x))"
   ]
  },
  {
   "cell_type": "code",
   "execution_count": 4,
   "metadata": {},
   "outputs": [],
   "source": [
    "data.question = data.question.map(lambda x : x[1:-1] + \" \")"
   ]
  },
  {
   "cell_type": "code",
   "execution_count": 5,
   "metadata": {},
   "outputs": [
    {
     "data": {
      "text/plain": [
       "65202                                      Loud speaker(6) \n",
       "191570    In 1666 this Quaker who founded an American co...\n",
       "86591     Compounds featuring this element are used to t...\n",
       "29115     Imperial New York state nickname for a time of...\n",
       "81898     Bouffee or souffle in French, it's found befor...\n",
       "51798     Covered mostly by an inland icecap, the world'...\n",
       "152439    In the 1800s Argentinean cowboys called this i...\n",
       "31117     1 potato, 2 potato, 3 potato, 4, more potatoes...\n",
       "123127    In 1570 Spain's Phillip II tried to put this q...\n",
       "132582    An Asian deer secretes this substance commonly...\n",
       "Name: question, dtype: object"
      ]
     },
     "execution_count": 5,
     "metadata": {},
     "output_type": "execute_result"
    }
   ],
   "source": [
    "data.question.sample(10)"
   ]
  },
  {
   "cell_type": "markdown",
   "metadata": {},
   "source": [
    "# Topic Modeling\n",
    "\n",
    "This will be following the [Fast.AI](https://github.com/fastai/course-nlp/blob/master/2-svd-nmf-topic-modeling.ipynb) course using SVD for LDA. To speed up the computation, I am using Facebook's `fbpca` package to perform randomized SVD which produces similar results in far less time.\n",
    "\n",
    "Because these are not very complex models, I will be processing the data.\n",
    "\n",
    "Furthermore, SVD performs poorly on short texts, so I have taken all questions from each category and concatenated them to assist the learner.\n",
    "\n",
    "This leads to meaningful categories, as is demonstrated in the final cell of this section."
   ]
  },
  {
   "cell_type": "code",
   "execution_count": 6,
   "metadata": {},
   "outputs": [],
   "source": [
    "# just a quick method to sample random elements from something iterable\n",
    "def sample(arr, n=10):\n",
    "    if n == 'all':\n",
    "        return arr\n",
    "    return arr[np.random.randint(0,len(arr),size=n)]"
   ]
  },
  {
   "cell_type": "code",
   "execution_count": 7,
   "metadata": {},
   "outputs": [],
   "source": [
    "questions = data[['category','question']].groupby(by='category').sum().question"
   ]
  },
  {
   "cell_type": "code",
   "execution_count": 8,
   "metadata": {},
   "outputs": [],
   "source": [
    "vectorizer = CountVectorizer(stop_words='english')\n",
    "\n",
    "vectors = vectorizer.fit_transform(questions)"
   ]
  },
  {
   "cell_type": "code",
   "execution_count": 9,
   "metadata": {},
   "outputs": [
    {
     "data": {
      "text/plain": [
       "<27995x87566 sparse matrix of type '<class 'numpy.int64'>'\n",
       "\twith 1445283 stored elements in Compressed Sparse Row format>"
      ]
     },
     "execution_count": 9,
     "metadata": {},
     "output_type": "execute_result"
    }
   ],
   "source": [
    "vectors"
   ]
  },
  {
   "cell_type": "code",
   "execution_count": 10,
   "metadata": {
    "scrolled": true
   },
   "outputs": [
    {
     "name": "stdout",
     "output_type": "stream",
     "text": [
      "(87566,)\n",
      "['atlantico' 'relics' 'valved' 'zuiderzee' 'buffoon' 'presently' 'wacky'\n",
      " 'bureaucrats' 'ambrosia' 'welch']\n"
     ]
    }
   ],
   "source": [
    "vocab = np.array(vectorizer.get_feature_names())\n",
    "print(vocab.shape)\n",
    "print(sample(vocab))"
   ]
  },
  {
   "cell_type": "code",
   "execution_count": 11,
   "metadata": {},
   "outputs": [],
   "source": [
    "U, s, Vh = fbpca.pca(vectors, 30)"
   ]
  },
  {
   "cell_type": "code",
   "execution_count": 12,
   "metadata": {},
   "outputs": [
    {
     "name": "stdout",
     "output_type": "stream",
     "text": [
      "(27995, 30) (30,) (30, 87566)\n"
     ]
    }
   ],
   "source": [
    "print(U.shape, s.shape, Vh.shape)"
   ]
  },
  {
   "cell_type": "code",
   "execution_count": 13,
   "metadata": {},
   "outputs": [
    {
     "data": {
      "text/plain": [
       "[<matplotlib.lines.Line2D at 0x7fcb1b74c438>]"
      ]
     },
     "execution_count": 13,
     "metadata": {},
     "output_type": "execute_result"
    },
    {
     "data": {
      "image/png": "[encoded data removed]",
      "text/plain": [
       "<Figure size 432x288 with 1 Axes>"
      ]
     },
     "metadata": {
      "needs_background": "light"
     },
     "output_type": "display_data"
    }
   ],
   "source": [
    "plt.plot(s)"
   ]
  },
  {
   "cell_type": "code",
   "execution_count": 14,
   "metadata": {},
   "outputs": [],
   "source": [
    "num_top_words=8\n",
    "\n",
    "def show_topics(a):\n",
    "    top_words = lambda t: [vocab[i] for i in np.argsort(t)[:-num_top_words-1:-1]]\n",
    "    topic_words = ([top_words(t) for t in a])\n",
    "    return [' '.join(t) for t in topic_words]"
   ]
  },
  {
   "cell_type": "code",
   "execution_count": 15,
   "metadata": {},
   "outputs": [
    {
     "data": {
      "text/plain": [
       "['city capital state country named new island largest',\n",
       " 'novel wrote title author book man film called',\n",
       " 'novel city capital title author wrote book film',\n",
       " 'state university word school college clue type crew',\n",
       " 'word capital city comes latin type used clue',\n",
       " 'film country ballet played president opera museum king',\n",
       " 'language university country school spoken college official languages',\n",
       " 'state language film capital spoken ballet official opera']"
      ]
     },
     "execution_count": 15,
     "metadata": {},
     "output_type": "execute_result"
    }
   ],
   "source": [
    "show_topics(Vh[:8])"
   ]
  },
  {
   "cell_type": "code",
   "execution_count": 16,
   "metadata": {},
   "outputs": [
    {
     "data": {
      "text/plain": [
       "\"A Shakespeare sonnet accuses this purple flower of steaing its smell from the poet's love \""
      ]
     },
     "execution_count": 16,
     "metadata": {},
     "output_type": "execute_result"
    }
   ],
   "source": [
    "data.question.iloc[1300]"
   ]
  },
  {
   "cell_type": "code",
   "execution_count": 17,
   "metadata": {},
   "outputs": [
    {
     "data": {
      "text/plain": [
       "<1x87566 sparse matrix of type '<class 'numpy.int64'>'\n",
       "\twith 9 stored elements in Compressed Sparse Row format>"
      ]
     },
     "execution_count": 17,
     "metadata": {},
     "output_type": "execute_result"
    }
   ],
   "source": [
    "vectorizer.transform([data.question.iloc[1300]])"
   ]
  },
  {
   "cell_type": "markdown",
   "metadata": {},
   "source": [
    "# Topic Modeling With Gensim"
   ]
  },
  {
   "cell_type": "code",
   "execution_count": 18,
   "metadata": {},
   "outputs": [],
   "source": [
    "nlp = spacy.load('en')"
   ]
  },
  {
   "cell_type": "code",
   "execution_count": null,
   "metadata": {},
   "outputs": [],
   "source": []
  },
  {
   "cell_type": "code",
   "execution_count": null,
   "metadata": {},
   "outputs": [],
   "source": []
  },
  {
   "cell_type": "code",
   "execution_count": null,
   "metadata": {},
   "outputs": [],
   "source": []
  },
  {
   "cell_type": "code",
   "execution_count": null,
   "metadata": {},
   "outputs": [],
   "source": []
  },
  {
   "cell_type": "code",
   "execution_count": null,
   "metadata": {},
   "outputs": [],
   "source": []
  }
 ],
 "metadata": {
  "kernelspec": {
   "display_name": "Python [conda env:nlp] *",
   "language": "python",
   "name": "conda-env-nlp-py"
  },
  "language_info": {
   "codemirror_mode": {
    "name": "ipython",
    "version": 3
   },
   "file_extension": ".py",
   "mimetype": "text/x-python",
   "name": "python",
   "nbconvert_exporter": "python",
   "pygments_lexer": "ipython3",
   "version": "3.7.3"
  }
 },
 "nbformat": 4,
 "nbformat_minor": 2
}
